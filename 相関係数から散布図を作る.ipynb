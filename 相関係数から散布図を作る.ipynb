{
  "nbformat": 4,
  "nbformat_minor": 0,
  "metadata": {
    "colab": {
      "name": "相関係数から散布図を作る.ipynb",
      "provenance": [],
      "authorship_tag": "ABX9TyMBM9YPGO6WXQ+kLI4Be7EK",
      "include_colab_link": true
    },
    "kernelspec": {
      "name": "python3",
      "display_name": "Python 3"
    },
    "language_info": {
      "name": "python"
    }
  },
  "cells": [
    {
      "cell_type": "markdown",
      "metadata": {
        "id": "view-in-github",
        "colab_type": "text"
      },
      "source": [
        "<a href=\"https://colab.research.google.com/github/kjn2020/fromGoogleColab/blob/main/%E7%9B%B8%E9%96%A2%E4%BF%82%E6%95%B0%E3%81%8B%E3%82%89%E6%95%A3%E5%B8%83%E5%9B%B3%E3%82%92%E4%BD%9C%E3%82%8B.ipynb\" target=\"_parent\"><img src=\"https://colab.research.google.com/assets/colab-badge.svg\" alt=\"Open In Colab\"/></a>"
      ]
    },
    {
      "cell_type": "code",
      "source": [
        "# 画像保存用のフォルダを作成と確認\n",
        "!mkdir datafig\n",
        "!ls"
      ],
      "metadata": {
        "colab": {
          "base_uri": "https://localhost:8080/"
        },
        "id": "3_d72CSGlHbY",
        "outputId": "57a471bc-8ef9-4a80-9c00-b5f7bf5ffca2"
      },
      "execution_count": null,
      "outputs": [
        {
          "output_type": "stream",
          "name": "stdout",
          "text": [
            "datafig  sample_data\n"
          ]
        }
      ]
    },
    {
      "cell_type": "code",
      "source": [
        "import numpy as np\n",
        "import matplotlib.pyplot as plt\n",
        "# 保存画像の処理\n",
        "import shutil\n",
        "import os\n",
        "\n",
        "# たまたまランダムに出てきたものを拾うだけなので，データサイズを大きくしたり，\n",
        "# 相関係数を厳しいものにした場合，結果が返ってこない\n",
        "n_data = 30 # dataサイズ\n",
        "coeff = 0.41 # 0.63 # 相関係数の値\n",
        "dif = 0.01 # 相関係数の許容範囲（誤差分）\n",
        "\n",
        "for i in range(5):# 散布図を5つ作成\n",
        "  # 保存ファイル作成\n",
        "  fl_name_co = int(coeff * 100)\n",
        "  fl_name = 'coef'+str(fl_name_co)+'_'+str(i)+'.png'\n",
        "  # 相関係数 coeff，データ個数 n_dataの散布図を作成\n",
        "\n",
        "  c = 0\n",
        "  while c < coeff - dif or c > coeff + dif:\n",
        "    # 条件を満たしている限りループ \n",
        "    # 生成したデータの相関係数が coeff-diff<=c<=coeff+difでない限りループ\n",
        "    # データの生成と相関係数の計算\n",
        "    X = np.random.rand(n_data)\n",
        "    Y = np.random.rand(n_data)\n",
        "    c = np.corrcoef(X, Y)[0, 1]\n",
        "  # 散布図の作成\n",
        "  plt.figure(figsize=(5,5))\n",
        "  plt.title(\"correlation coefficient = {0:.3f}\".format(coeff))\n",
        "  plt.scatter(X, Y)\n",
        "  plt.xlim([0, 1])\n",
        "  plt.ylim([0, 1])\n",
        "  plt.grid()\n",
        "  plt.savefig(fl_name, dpi = 300) # 散布図を保存\n",
        "  mv_name = 'datafig/' + fl_name # datafigフォルダに保存するための名前\n",
        "  shutil.move(fl_name, mv_name) # 作った散布図をdatafigの中に移動\n",
        "  plt.show() # 散布図を表示\n"
      ],
      "metadata": {
        "id": "k4AA7S2MVX3T"
      },
      "execution_count": null,
      "outputs": []
    },
    {
      "cell_type": "code",
      "source": [
        "# colabファイル操作\n",
        "from google.colab import files\n",
        "# 保存画像の処理\n",
        "# import shutil\n",
        "# import os\n",
        "\n",
        "# download.zipがあれば削除\n",
        "dl_file = 'download.zip'\n",
        "if os.path.exists(dl_file):\n",
        "    os.remove(dl_file)\n",
        "#\n",
        "# ダウンロードしたいフォルダを zip 圧縮する\n",
        "!zip -r /content/download.zip /content/datafig\n",
        "\n",
        "# 圧縮した zip ファイルをダウンロードする\n",
        "files.download(\"/content/download.zip\")\n"
      ],
      "metadata": {
        "id": "sXEivXvnOGfQ"
      },
      "execution_count": null,
      "outputs": []
    },
    {
      "cell_type": "code",
      "source": [
        "import numpy as np\n",
        "import matplotlib.pyplot as plt\n",
        "# 保存画像の処理\n",
        "import shutil\n",
        "import os\n",
        "\n",
        "# たまたまランダムに出てきたものを拾うだけなので，データサイズを大きくしたり，\n",
        "# 相関係数を厳しいものにした場合，結果が返ってこない\n",
        "n_data = 30 # dataサイズ\n",
        "coeff = 0.41 # 0.63 # 相関係数の値\n",
        "dif = 0.01 # 相関係数の許容範囲（誤差分）\n",
        "\n",
        "for i in range(5):# 散布図を5つ作成\n",
        "  # 保存ファイル作成\n",
        "  fl_name_co = int(coeff * 100)\n",
        "  fl_name = 'coef'+str(fl_name_co)+'_'+str(i)+'.png'\n",
        "  # 相関係数 coeff，データ個数 n_dataの散布図を作成\n",
        "\n",
        "  c = 0\n",
        "  while c < coeff - dif or c > coeff + dif:\n",
        "    # 条件を満たしている限りループ \n",
        "    # 生成したデータの相関係数が coeff-diff<=c<=coeff+difでない限りループ\n",
        "    # データの生成と相関係数の計算\n",
        "    X = np.random.rand(n_data)\n",
        "    Y = np.random.rand(n_data)\n",
        "    c = np.corrcoef(X, Y)[0, 1]\n",
        "  # 散布図の作成\n",
        "  plt.figure(figsize=(5,5))\n",
        "  plt.title(\"correlation coefficient = {0:.3f}\".format(coeff))\n",
        "  plt.scatter(X, Y)\n",
        "  plt.xlim([0, 1])\n",
        "  plt.ylim([0, 1])\n",
        "  plt.grid()\n",
        "  plt.savefig(fl_name, dpi = 300) # 散布図を保存\n",
        "  mv_name = 'datafig/' + fl_name # datafigフォルダに保存するための名前\n",
        "  shutil.move(fl_name, mv_name) # 作った散布図をdatafigの中に移動\n",
        "  plt.show() # 散布図を表示\n"
      ],
      "metadata": {
        "id": "t9oOKWG3-C-j"
      },
      "execution_count": null,
      "outputs": []
    }
  ]
}